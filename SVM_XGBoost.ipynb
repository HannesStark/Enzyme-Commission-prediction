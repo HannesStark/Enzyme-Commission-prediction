{
 "cells": [
  {
   "cell_type": "markdown",
   "metadata": {},
   "source": [
    "# SVM and XGBoost"
   ]
  },
  {
   "cell_type": "markdown",
   "metadata": {},
   "source": [
    "## Preliminars"
   ]
  },
  {
   "cell_type": "markdown",
   "metadata": {},
   "source": [
    "### Import Libraries"
   ]
  },
  {
   "cell_type": "code",
   "execution_count": 1,
   "metadata": {
    "execution": {
     "iopub.execute_input": "2020-12-09T20:15:33.798494Z",
     "iopub.status.busy": "2020-12-09T20:15:33.797813Z",
     "iopub.status.idle": "2020-12-09T20:15:34.369481Z",
     "shell.execute_reply": "2020-12-09T20:15:34.368253Z",
     "shell.execute_reply.started": "2020-12-09T20:15:33.798400Z"
    }
   },
   "outputs": [],
   "source": [
    "from Bio.SeqIO import PirIO\n",
    "import h5py\n",
    "from time import time\n",
    "import numpy as np\n",
    "import sys"
   ]
  },
  {
   "cell_type": "code",
   "execution_count": 2,
   "metadata": {
    "execution": {
     "iopub.execute_input": "2020-12-09T20:15:36.195133Z",
     "iopub.status.busy": "2020-12-09T20:15:36.194502Z",
     "iopub.status.idle": "2020-12-09T20:15:37.574196Z",
     "shell.execute_reply": "2020-12-09T20:15:37.572951Z",
     "shell.execute_reply.started": "2020-12-09T20:15:36.195086Z"
    }
   },
   "outputs": [],
   "source": [
    "import matplotlib.pyplot as plt\n",
    "import seaborn as sns\n",
    "\n",
    "import sklearn \n",
    "import sklearn.model_selection\n",
    "from sklearn.metrics import f1_score, precision_score, recall_score, confusion_matrix\n",
    "\n",
    "import pandas as pd"
   ]
  },
  {
   "cell_type": "markdown",
   "metadata": {},
   "source": [
    "### Import Data"
   ]
  },
  {
   "cell_type": "code",
   "execution_count": 59,
   "metadata": {
    "execution": {
     "iopub.execute_input": "2020-12-09T22:16:32.677776Z",
     "iopub.status.busy": "2020-12-09T22:16:32.677387Z",
     "iopub.status.idle": "2020-12-09T22:17:46.184808Z",
     "shell.execute_reply": "2020-12-09T22:17:46.183311Z",
     "shell.execute_reply.started": "2020-12-09T22:16:32.677739Z"
    }
   },
   "outputs": [
    {
     "name": "stdout",
     "output_type": "stream",
     "text": [
      "./data/ec_vs_NOec_pide100_c50.h5\n",
      "LOAD - This may take a while, if you run this the first time!\n",
      "39999"
     ]
    }
   ],
   "source": [
    "# path to git repo\n",
    "preamble = \".\"\n",
    "\n",
    "h5py_file = preamble+'/data/ec_vs_NOec_pide100_c50.h5'\n",
    "fasta_path = preamble+'/data/nonRed_dataset/ec_vs_NOec_pide20_c50_train.fasta'\n",
    "anno = preamble+'/data/annotations/merged_anno.txt'\n",
    "\n",
    "print(h5py_file)\n",
    "\n",
    "print('LOAD - This may take a while, if you run this the first time!')\n",
    "# https://stackoverflow.com/questions/20928136/input-and-output-numpy-arrays-to-h5py\n",
    "\n",
    "count = 0\n",
    "\n",
    "X =  []\n",
    "y = []\n",
    "\n",
    "def reduceAnno(anno: str):\n",
    "    y.append(int(anno[0]))\n",
    "    return i\n",
    "\n",
    "\n",
    "with open(anno) as fp:\n",
    "    with h5py.File(h5py_file, 'r') as h5:\n",
    "        i = 0\n",
    "        for line in fp:\n",
    "            input = line.strip().split('\\t')\n",
    "            if input[0] in h5:\n",
    "\n",
    "                X.append(np.asarray(h5[input[0][:]]))\n",
    "\n",
    "                reduceAnno(input[1])\n",
    "\n",
    "                i += 1\n",
    "\n",
    "            if i == 40000:\n",
    "                break\n",
    "\n",
    "            else:\n",
    "                pass\n",
    "                # print(input[0], 'NOT FOUND')\n",
    "\n",
    "            sys.stdout.write('\\r' + str(i))\n",
    "            \n",
    "            "
   ]
  },
  {
   "cell_type": "markdown",
   "metadata": {},
   "source": [
    "### Train/Test Split"
   ]
  },
  {
   "cell_type": "code",
   "execution_count": 60,
   "metadata": {
    "execution": {
     "iopub.execute_input": "2020-12-09T22:17:49.181714Z",
     "iopub.status.busy": "2020-12-09T22:17:49.181292Z",
     "iopub.status.idle": "2020-12-09T22:17:49.250483Z",
     "shell.execute_reply": "2020-12-09T22:17:49.246983Z",
     "shell.execute_reply.started": "2020-12-09T22:17:49.181671Z"
    }
   },
   "outputs": [],
   "source": [
    "X_train, X_test, y_train, y_test = sklearn.model_selection.train_test_split(X, y, test_size=0.10)"
   ]
  },
  {
   "cell_type": "markdown",
   "metadata": {},
   "source": [
    "# SVM"
   ]
  },
  {
   "cell_type": "code",
   "execution_count": 89,
   "metadata": {
    "execution": {
     "iopub.execute_input": "2020-12-10T01:09:18.002158Z",
     "iopub.status.busy": "2020-12-10T01:09:18.001769Z",
     "iopub.status.idle": "2020-12-10T01:09:18.008362Z",
     "shell.execute_reply": "2020-12-10T01:09:18.006185Z",
     "shell.execute_reply.started": "2020-12-10T01:09:18.002112Z"
    }
   },
   "outputs": [],
   "source": [
    "from sklearn.svm import SVC"
   ]
  },
  {
   "cell_type": "code",
   "execution_count": 90,
   "metadata": {
    "execution": {
     "iopub.execute_input": "2020-12-10T01:09:18.495674Z",
     "iopub.status.busy": "2020-12-10T01:09:18.495222Z",
     "iopub.status.idle": "2020-12-10T01:09:18.502962Z",
     "shell.execute_reply": "2020-12-10T01:09:18.500432Z",
     "shell.execute_reply.started": "2020-12-10T01:09:18.495624Z"
    }
   },
   "outputs": [],
   "source": [
    "svm = SVC()"
   ]
  },
  {
   "cell_type": "code",
   "execution_count": 91,
   "metadata": {
    "execution": {
     "iopub.execute_input": "2020-12-10T01:09:21.445793Z",
     "iopub.status.busy": "2020-12-10T01:09:21.445426Z",
     "iopub.status.idle": "2020-12-10T01:31:48.801136Z",
     "shell.execute_reply": "2020-12-10T01:31:48.799797Z",
     "shell.execute_reply.started": "2020-12-10T01:09:21.445755Z"
    }
   },
   "outputs": [
    {
     "data": {
      "text/plain": [
       "SVC()"
      ]
     },
     "execution_count": 91,
     "metadata": {},
     "output_type": "execute_result"
    }
   ],
   "source": [
    "svm.fit(X_train, y_train)"
   ]
  },
  {
   "cell_type": "code",
   "execution_count": 92,
   "metadata": {
    "execution": {
     "iopub.execute_input": "2020-12-10T01:31:48.804601Z",
     "iopub.status.busy": "2020-12-10T01:31:48.803994Z",
     "iopub.status.idle": "2020-12-10T01:34:05.363768Z",
     "shell.execute_reply": "2020-12-10T01:34:05.362780Z",
     "shell.execute_reply.started": "2020-12-10T01:31:48.804545Z"
    }
   },
   "outputs": [],
   "source": [
    "y_pred = svm.predict(X_test)"
   ]
  },
  {
   "cell_type": "code",
   "execution_count": 137,
   "metadata": {
    "execution": {
     "iopub.execute_input": "2020-12-10T10:03:30.959312Z",
     "iopub.status.busy": "2020-12-10T10:03:30.958812Z",
     "iopub.status.idle": "2020-12-10T10:06:06.463917Z",
     "shell.execute_reply": "2020-12-10T10:06:06.462765Z",
     "shell.execute_reply.started": "2020-12-10T10:03:30.959253Z"
    }
   },
   "outputs": [
    {
     "data": {
      "text/plain": [
       "<sklearn.metrics._plot.confusion_matrix.ConfusionMatrixDisplay at 0x7ffdf3099b90>"
      ]
     },
     "execution_count": 137,
     "metadata": {},
     "output_type": "execute_result"
    },
    {
     "data": {
      "image/png": "[encoded data removed]",
      "text/plain": [
       "<Figure size 432x288 with 2 Axes>"
      ]
     },
     "metadata": {
      "needs_background": "light"
     },
     "output_type": "display_data"
    }
   ],
   "source": [
    "sklearn.metrics.plot_confusion_matrix(svm, X_test, y_test, normalize='true')"
   ]
  },
  {
   "cell_type": "code",
   "execution_count": 146,
   "metadata": {
    "execution": {
     "iopub.execute_input": "2020-12-10T10:14:30.952952Z",
     "iopub.status.busy": "2020-12-10T10:14:30.952210Z",
     "iopub.status.idle": "2020-12-10T10:14:30.998360Z",
     "shell.execute_reply": "2020-12-10T10:14:30.993570Z",
     "shell.execute_reply.started": "2020-12-10T10:14:30.952707Z"
    }
   },
   "outputs": [
    {
     "name": "stdout",
     "output_type": "stream",
     "text": [
      "Accuracy 0.803\n",
      "Macro-precision 0.8774949073087333\n",
      "Macro-recall 0.7315765287581533\n",
      "Macro-f1 0.7751374188657965\n"
     ]
    }
   ],
   "source": [
    "print('Accuracy', sk.metrics.accuracy_score(y_test,y_pred))\n",
    "print('Macro-precision', sk.metrics.precision_score(y_test, y_pred, average=\"macro\"))\n",
    "print('Macro-recall',recall_score(y_test, y_pred , average=\"macro\"))\n",
    "print('Macro-f1',f1_score(y_test, y_pred, average=\"macro\"))"
   ]
  },
  {
   "cell_type": "markdown",
   "metadata": {},
   "source": [
    "# XGBoost"
   ]
  },
  {
   "cell_type": "code",
   "execution_count": 6,
   "metadata": {
    "execution": {
     "iopub.execute_input": "2020-12-09T20:18:25.660085Z",
     "iopub.status.busy": "2020-12-09T20:18:25.659732Z",
     "iopub.status.idle": "2020-12-09T20:18:25.701474Z",
     "shell.execute_reply": "2020-12-09T20:18:25.699598Z",
     "shell.execute_reply.started": "2020-12-09T20:18:25.660048Z"
    }
   },
   "outputs": [],
   "source": [
    "from xgboost import XGBClassifier"
   ]
  },
  {
   "cell_type": "code",
   "execution_count": 7,
   "metadata": {
    "execution": {
     "iopub.execute_input": "2020-12-09T20:18:26.268518Z",
     "iopub.status.busy": "2020-12-09T20:18:26.267996Z",
     "iopub.status.idle": "2020-12-09T20:18:26.277960Z",
     "shell.execute_reply": "2020-12-09T20:18:26.274841Z",
     "shell.execute_reply.started": "2020-12-09T20:18:26.268475Z"
    }
   },
   "outputs": [],
   "source": [
    "xgb = XGBClassifier()"
   ]
  },
  {
   "cell_type": "code",
   "execution_count": 8,
   "metadata": {
    "execution": {
     "iopub.execute_input": "2020-12-09T20:18:27.059904Z",
     "iopub.status.busy": "2020-12-09T20:18:27.059156Z",
     "iopub.status.idle": "2020-12-09T20:18:27.069460Z",
     "shell.execute_reply": "2020-12-09T20:18:27.067883Z",
     "shell.execute_reply.started": "2020-12-09T20:18:27.059838Z"
    }
   },
   "outputs": [],
   "source": [
    "setattr(xgb, 'verbosity', 1)"
   ]
  },
  {
   "cell_type": "code",
   "execution_count": 68,
   "metadata": {
    "execution": {
     "iopub.execute_input": "2020-12-09T23:04:10.148555Z",
     "iopub.status.busy": "2020-12-09T23:04:10.148146Z",
     "iopub.status.idle": "2020-12-09T23:04:10.370420Z",
     "shell.execute_reply": "2020-12-09T23:04:10.368234Z",
     "shell.execute_reply.started": "2020-12-09T23:04:10.148515Z"
    }
   },
   "outputs": [],
   "source": [
    "X_train_array = np.array(X_train)\n",
    "y_train_array = np.array(y_train)"
   ]
  },
  {
   "cell_type": "code",
   "execution_count": 69,
   "metadata": {
    "execution": {
     "iopub.execute_input": "2020-12-09T23:04:11.062185Z",
     "iopub.status.busy": "2020-12-09T23:04:11.061852Z",
     "iopub.status.idle": "2020-12-09T23:04:11.111421Z",
     "shell.execute_reply": "2020-12-09T23:04:11.107407Z",
     "shell.execute_reply.started": "2020-12-09T23:04:11.062151Z"
    }
   },
   "outputs": [],
   "source": [
    "X_test_array = np.array(X_test)\n",
    "y_test_array = np.array(y_test)"
   ]
  },
  {
   "cell_type": "code",
   "execution_count": 63,
   "metadata": {
    "execution": {
     "iopub.execute_input": "2020-12-09T22:18:09.854382Z",
     "iopub.status.busy": "2020-12-09T22:18:09.853983Z",
     "iopub.status.idle": "2020-12-09T22:55:39.081114Z",
     "shell.execute_reply": "2020-12-09T22:55:39.079674Z",
     "shell.execute_reply.started": "2020-12-09T22:18:09.854341Z"
    }
   },
   "outputs": [
    {
     "data": {
      "text/plain": [
       "XGBClassifier(base_score=0.5, booster='gbtree', colsample_bylevel=1,\n",
       "              colsample_bynode=1, colsample_bytree=1, gamma=0, gpu_id=-1,\n",
       "              importance_type='gain', interaction_constraints='',\n",
       "              learning_rate=0.300000012, max_delta_step=0, max_depth=6,\n",
       "              min_child_weight=1, missing=nan, monotone_constraints='()',\n",
       "              n_estimators=100, n_jobs=0, num_parallel_tree=1,\n",
       "              objective='multi:softprob', random_state=0, reg_alpha=0,\n",
       "              reg_lambda=1, scale_pos_weight=None, subsample=1,\n",
       "              tree_method='exact', validate_parameters=1, verbosity=1)"
      ]
     },
     "execution_count": 63,
     "metadata": {},
     "output_type": "execute_result"
    }
   ],
   "source": [
    "xgb.fit(X_train_array, y_train_array)"
   ]
  },
  {
   "cell_type": "code",
   "execution_count": 135,
   "metadata": {
    "execution": {
     "iopub.execute_input": "2020-12-10T10:02:28.983897Z",
     "iopub.status.busy": "2020-12-10T10:02:28.983552Z",
     "iopub.status.idle": "2020-12-10T10:02:30.490918Z",
     "shell.execute_reply": "2020-12-10T10:02:30.488590Z",
     "shell.execute_reply.started": "2020-12-10T10:02:28.983861Z"
    }
   },
   "outputs": [
    {
     "data": {
      "text/plain": [
       "<sklearn.metrics._plot.confusion_matrix.ConfusionMatrixDisplay at 0x7ffdf293c550>"
      ]
     },
     "execution_count": 135,
     "metadata": {},
     "output_type": "execute_result"
    },
    {
     "data": {
      "image/png": "[encoded data removed]",
      "text/plain": [
       "<Figure size 432x288 with 2 Axes>"
      ]
     },
     "metadata": {
      "needs_background": "light"
     },
     "output_type": "display_data"
    }
   ],
   "source": [
    "sklearn.metrics.plot_confusion_matrix(xgb, X_test_array, y_test_array, normalize='true')"
   ]
  },
  {
   "cell_type": "code",
   "execution_count": 148,
   "metadata": {
    "execution": {
     "iopub.execute_input": "2020-12-10T10:16:41.476817Z",
     "iopub.status.busy": "2020-12-10T10:16:41.476449Z",
     "iopub.status.idle": "2020-12-10T10:16:41.855956Z",
     "shell.execute_reply": "2020-12-10T10:16:41.853891Z",
     "shell.execute_reply.started": "2020-12-10T10:16:41.476781Z"
    }
   },
   "outputs": [],
   "source": [
    "y_xgb = xgb.predict(X_test_array)"
   ]
  },
  {
   "cell_type": "code",
   "execution_count": 149,
   "metadata": {
    "execution": {
     "iopub.execute_input": "2020-12-10T10:17:07.527442Z",
     "iopub.status.busy": "2020-12-10T10:17:07.526907Z",
     "iopub.status.idle": "2020-12-10T10:17:07.557877Z",
     "shell.execute_reply": "2020-12-10T10:17:07.556302Z",
     "shell.execute_reply.started": "2020-12-10T10:17:07.527383Z"
    }
   },
   "outputs": [
    {
     "name": "stdout",
     "output_type": "stream",
     "text": [
      "Accuracy 0.85975\n",
      "Macro-precision 0.9118476393491061\n",
      "Macro-recall 0.8179436150418368\n",
      "Macro-f1 0.8551682817053078\n"
     ]
    }
   ],
   "source": [
    "print('Accuracy', sk.metrics.accuracy_score(y_test,y_xgb))\n",
    "print('Macro-precision', sk.metrics.precision_score(y_test, y_xgb, average=\"macro\"))\n",
    "print('Macro-recall',recall_score(y_test, y_xgb , average=\"macro\"))\n",
    "print('Macro-f1',f1_score(y_test, y_xgb, average=\"macro\"))"
   ]
  },
  {
   "cell_type": "markdown",
   "metadata": {},
   "source": [
    "# KNN"
   ]
  },
  {
   "cell_type": "code",
   "execution_count": 14,
   "metadata": {
    "execution": {
     "iopub.execute_input": "2020-12-09T20:44:21.226044Z",
     "iopub.status.busy": "2020-12-09T20:44:21.225507Z",
     "iopub.status.idle": "2020-12-09T20:44:21.403350Z",
     "shell.execute_reply": "2020-12-09T20:44:21.402433Z",
     "shell.execute_reply.started": "2020-12-09T20:44:21.225983Z"
    }
   },
   "outputs": [],
   "source": [
    "from sklearn.neighbors import KNeighborsClassifier"
   ]
  },
  {
   "cell_type": "code",
   "execution_count": 15,
   "metadata": {
    "execution": {
     "iopub.execute_input": "2020-12-09T20:44:26.905470Z",
     "iopub.status.busy": "2020-12-09T20:44:26.905109Z",
     "iopub.status.idle": "2020-12-09T20:44:26.912121Z",
     "shell.execute_reply": "2020-12-09T20:44:26.909533Z",
     "shell.execute_reply.started": "2020-12-09T20:44:26.905432Z"
    }
   },
   "outputs": [],
   "source": [
    "knn = KNeighborsClassifier(n_neighbors=1)"
   ]
  },
  {
   "cell_type": "code",
   "execution_count": 16,
   "metadata": {
    "execution": {
     "iopub.execute_input": "2020-12-09T20:44:29.223350Z",
     "iopub.status.busy": "2020-12-09T20:44:29.222935Z",
     "iopub.status.idle": "2020-12-09T20:44:30.602631Z",
     "shell.execute_reply": "2020-12-09T20:44:30.601352Z",
     "shell.execute_reply.started": "2020-12-09T20:44:29.223308Z"
    }
   },
   "outputs": [
    {
     "data": {
      "text/plain": [
       "KNeighborsClassifier(n_neighbors=1)"
      ]
     },
     "execution_count": 16,
     "metadata": {},
     "output_type": "execute_result"
    }
   ],
   "source": [
    "knn.fit(X_train, y_train)"
   ]
  },
  {
   "cell_type": "code",
   "execution_count": 136,
   "metadata": {
    "execution": {
     "iopub.execute_input": "2020-12-10T10:03:03.809443Z",
     "iopub.status.busy": "2020-12-10T10:03:03.809082Z",
     "iopub.status.idle": "2020-12-10T10:03:30.954619Z",
     "shell.execute_reply": "2020-12-10T10:03:30.953293Z",
     "shell.execute_reply.started": "2020-12-10T10:03:03.809406Z"
    }
   },
   "outputs": [
    {
     "data": {
      "text/plain": [
       "<sklearn.metrics._plot.confusion_matrix.ConfusionMatrixDisplay at 0x7ffdf29b2d90>"
      ]
     },
     "execution_count": 136,
     "metadata": {},
     "output_type": "execute_result"
    },
    {
     "data": {
      "image/png": "[encoded data removed]",
      "text/plain": [
       "<Figure size 432x288 with 2 Axes>"
      ]
     },
     "metadata": {
      "needs_background": "light"
     },
     "output_type": "display_data"
    }
   ],
   "source": [
    "sklearn.metrics.plot_confusion_matrix(knn, X_test, y_test, normalize='true')"
   ]
  },
  {
   "cell_type": "code",
   "execution_count": 143,
   "metadata": {
    "execution": {
     "iopub.execute_input": "2020-12-10T10:10:34.961764Z",
     "iopub.status.busy": "2020-12-10T10:10:34.961130Z",
     "iopub.status.idle": "2020-12-10T10:10:59.813948Z",
     "shell.execute_reply": "2020-12-10T10:10:59.813065Z",
     "shell.execute_reply.started": "2020-12-10T10:10:34.961697Z"
    }
   },
   "outputs": [],
   "source": [
    "knn_test = knn.predict(X_test)"
   ]
  },
  {
   "cell_type": "code",
   "execution_count": 145,
   "metadata": {
    "execution": {
     "iopub.execute_input": "2020-12-10T10:13:28.297441Z",
     "iopub.status.busy": "2020-12-10T10:13:28.296998Z",
     "iopub.status.idle": "2020-12-10T10:13:28.328070Z",
     "shell.execute_reply": "2020-12-10T10:13:28.326477Z",
     "shell.execute_reply.started": "2020-12-10T10:13:28.297378Z"
    }
   },
   "outputs": [
    {
     "name": "stdout",
     "output_type": "stream",
     "text": [
      "Accuracy 0.7695\n",
      "Macro-precision 0.773339207780672\n",
      "Macro-recall 0.7665407620442348\n",
      "Macro-f1 0.7671517633453339\n"
     ]
    }
   ],
   "source": [
    "print('Accuracy', sk.metrics.accuracy_score(y_test,knn_test))\n",
    "print('Macro-precision', sk.metrics.precision_score(y_test, knn_test, average=\"macro\"))\n",
    "print('Macro-recall',recall_score(y_test, knn_test , average=\"macro\"))\n",
    "print('Macro-f1',f1_score(y_test, knn_test, average=\"macro\"))"
   ]
  },
  {
   "cell_type": "markdown",
   "metadata": {},
   "source": [
    "# Classifier Comparisson"
   ]
  },
  {
   "cell_type": "code",
   "execution_count": 22,
   "metadata": {
    "execution": {
     "iopub.execute_input": "2020-12-09T20:45:48.217065Z",
     "iopub.status.busy": "2020-12-09T20:45:48.216343Z",
     "iopub.status.idle": "2020-12-09T20:45:48.225124Z",
     "shell.execute_reply": "2020-12-09T20:45:48.223048Z",
     "shell.execute_reply.started": "2020-12-09T20:45:48.216993Z"
    }
   },
   "outputs": [],
   "source": [
    "import sklearn as sk"
   ]
  },
  {
   "cell_type": "code",
   "execution_count": 79,
   "metadata": {
    "execution": {
     "iopub.execute_input": "2020-12-09T23:12:29.952741Z",
     "iopub.status.busy": "2020-12-09T23:12:29.952367Z",
     "iopub.status.idle": "2020-12-09T23:12:29.979244Z",
     "shell.execute_reply": "2020-12-09T23:12:29.976864Z",
     "shell.execute_reply.started": "2020-12-09T23:12:29.952702Z"
    }
   },
   "outputs": [],
   "source": [
    "def roc_auc_f(y_test_score, y_train_score, y_test = y_test, y_train = y_train, n_classes = 7):\n",
    "    fpr = dict()\n",
    "    tpr = dict()\n",
    "    thr = dict()\n",
    "    roc_auc = dict()\n",
    "    y_test = sk.preprocessing.label_binarize(y_test, classes=[i for i in range(n_classes)])\n",
    "    y_train = sk.preprocessing.label_binarize(y_train, classes=[i for i in range(n_classes)])\n",
    "    \n",
    "############### Test ###############    \n",
    "    for i in range(n_classes): #fpr, tpr and roc for each class\n",
    "        fpr[i], tpr[i], thr[i] = sk.metrics.roc_curve(y_test[:, i], y_test_score[:, i], drop_intermediate=False)\n",
    "        roc_auc[i] = sk.metrics.auc(fpr[i], tpr[i])   \n",
    "    \n",
    "    all_fpr = np.unique(np.concatenate([fpr[i] for i in range(n_classes)]))# get all fpr\n",
    "    mean_tpr = np.zeros_like(all_fpr)\n",
    "    \n",
    "    for i in range(n_classes): # Interpolate to get tpr at these values\n",
    "        mean_tpr += np.interp(all_fpr, fpr[i], tpr[i])\n",
    "    \n",
    "    mean_tpr /= n_classes \n",
    "\n",
    "    fpr[\"macro\"] = all_fpr\n",
    "    tpr[\"macro\"] = mean_tpr\n",
    "    roc_auc[\"macro\"] = sk.metrics.auc(fpr[\"macro\"], tpr[\"macro\"]) #auc\n",
    "    return fpr, tpr, roc_auc"
   ]
  },
  {
   "cell_type": "code",
   "execution_count": 96,
   "metadata": {
    "execution": {
     "iopub.execute_input": "2020-12-10T06:43:24.107817Z",
     "iopub.status.busy": "2020-12-10T06:43:24.107251Z",
     "iopub.status.idle": "2020-12-10T06:46:06.252656Z",
     "shell.execute_reply": "2020-12-10T06:46:06.251537Z",
     "shell.execute_reply.started": "2020-12-10T06:43:24.107757Z"
    }
   },
   "outputs": [],
   "source": [
    "svm_prob = svm.predict(X_test)\n",
    "xgb_prob = xgb.predict_proba(X_test_array)\n",
    "knn_prob = knn.predict_proba(X_test)"
   ]
  },
  {
   "cell_type": "code",
   "execution_count": 131,
   "metadata": {
    "execution": {
     "iopub.execute_input": "2020-12-10T07:00:07.080112Z",
     "iopub.status.busy": "2020-12-10T07:00:07.079752Z",
     "iopub.status.idle": "2020-12-10T07:00:07.093709Z",
     "shell.execute_reply": "2020-12-10T07:00:07.091801Z",
     "shell.execute_reply.started": "2020-12-10T07:00:07.080074Z"
    }
   },
   "outputs": [],
   "source": [
    "all_fpr = np.unique(np.concatenate([fpr_knn[i] for i in range(7)]))# get all fpr\n",
    "mean_tpr = np.zeros_like(all_fpr)\n",
    "for i in range(7): # Interpolate to get tpr at these values\n",
    "        mean_tpr += np.interp(all_fpr, fpr_knn[i], tpr_knn[i])\n",
    "mean_tpr /= 7\n",
    "tpr_knn[\"macro\"] = mean_tpr\n",
    "roc_auc_knn[0] = 0.0\n",
    "roc_auc_knn[\"macro\"] = sk.metrics.auc(fpr_knn[\"macro\"], tpr_knn[\"macro\"])"
   ]
  },
  {
   "cell_type": "code",
   "execution_count": 99,
   "metadata": {
    "execution": {
     "iopub.execute_input": "2020-12-10T06:47:40.740493Z",
     "iopub.status.busy": "2020-12-10T06:47:40.740137Z",
     "iopub.status.idle": "2020-12-10T06:47:40.843083Z",
     "shell.execute_reply": "2020-12-10T06:47:40.836487Z",
     "shell.execute_reply.started": "2020-12-10T06:47:40.740457Z"
    }
   },
   "outputs": [
    {
     "name": "stderr",
     "output_type": "stream",
     "text": [
      "/Users/jlrestrepol/miniconda2/envs/ProtPred/lib/python3.7/site-packages/sklearn/metrics/_ranking.py:813: UndefinedMetricWarning: No positive samples in y_true, true positive value should be meaningless\n",
      "  UndefinedMetricWarning)\n"
     ]
    }
   ],
   "source": [
    "#fpr_svm, tpr_svm, roc_auc_svm = roc_auc_f(svm_prob, svm_prob)\n",
    "fpr_xgb, tpr_xgb, roc_auc_xgb = roc_auc_f(xgb_prob, xgb_prob)\n",
    "fpr_knn, tpr_knn, roc_auc_knn = roc_auc_f(knn_prob, knn_prob)"
   ]
  },
  {
   "cell_type": "code",
   "execution_count": 108,
   "metadata": {
    "execution": {
     "iopub.execute_input": "2020-12-10T06:50:21.455633Z",
     "iopub.status.busy": "2020-12-10T06:50:21.454932Z",
     "iopub.status.idle": "2020-12-10T06:50:21.465268Z",
     "shell.execute_reply": "2020-12-10T06:50:21.463798Z",
     "shell.execute_reply.started": "2020-12-10T06:50:21.455563Z"
    }
   },
   "outputs": [],
   "source": [
    "tpr_xgb[0] = np.nan_to_num(tpr_xgb[0])"
   ]
  },
  {
   "cell_type": "code",
   "execution_count": 132,
   "metadata": {
    "execution": {
     "iopub.execute_input": "2020-12-10T07:00:11.935322Z",
     "iopub.status.busy": "2020-12-10T07:00:11.934955Z",
     "iopub.status.idle": "2020-12-10T07:00:11.946304Z",
     "shell.execute_reply": "2020-12-10T07:00:11.945092Z",
     "shell.execute_reply.started": "2020-12-10T07:00:11.935283Z"
    }
   },
   "outputs": [
    {
     "data": {
      "text/plain": [
       "{0: array([0., 0., 0., ..., 0., 0., 0.]),\n",
       " 1: array([0., 0., 0., ..., 1., 1., 1.]),\n",
       " 2: array([0., 0., 0., ..., 1., 1., 1.]),\n",
       " 3: array([0., 0., 0., ..., 1., 1., 1.]),\n",
       " 4: array([0., 0., 0., ..., 1., 1., 1.]),\n",
       " 5: array([0., 0., 0., ..., 1., 1., 1.]),\n",
       " 6: array([0.        , 0.        , 0.        , ..., 0.99562363, 0.99781182,\n",
       "        1.        ]),\n",
       " 'macro': array([0.        , 0.        , 0.        , ..., 0.85589247, 0.85589247,\n",
       "        0.85714286])}"
      ]
     },
     "execution_count": 132,
     "metadata": {},
     "output_type": "execute_result"
    }
   ],
   "source": [
    "tpr_xgb"
   ]
  },
  {
   "cell_type": "code",
   "execution_count": 133,
   "metadata": {
    "execution": {
     "iopub.execute_input": "2020-12-10T07:00:15.366509Z",
     "iopub.status.busy": "2020-12-10T07:00:15.366092Z",
     "iopub.status.idle": "2020-12-10T07:00:15.815430Z",
     "shell.execute_reply": "2020-12-10T07:00:15.813915Z",
     "shell.execute_reply.started": "2020-12-10T07:00:15.366474Z"
    }
   },
   "outputs": [
    {
     "data": {
      "text/plain": [
       "<matplotlib.legend.Legend at 0x7ffdf2935a50>"
      ]
     },
     "execution_count": 133,
     "metadata": {},
     "output_type": "execute_result"
    },
    {
     "data": {
      "image/png": "[encoded data removed]",
      "text/plain": [
       "<Figure size 432x288 with 1 Axes>"
      ]
     },
     "metadata": {
      "needs_background": "light"
     },
     "output_type": "display_data"
    }
   ],
   "source": [
    "fig, ax = plt.subplots()\n",
    "\n",
    "# max depth = 4\n",
    "#ax.plot(fpr_svm[\"macro\"], tpr_svm[\"macro\"], label='SVM. Test. (area = {0:0.2f})'.format(roc_auc_svm[\"macro\"]), \n",
    "#         color='navy', linestyle=':', linewidth=4)\n",
    "\n",
    "ax.plot(fpr_xgb[\"macro\"], tpr_xgb[\"macro\"], label='XGB. Test. (area = {0:0.2f})'.format(roc_auc_xgb[\"macro\"]), \n",
    "         color='navy', linestyle=':', linewidth=4)\n",
    "\n",
    "ax.plot(fpr_knn[\"macro\"], tpr_knn[\"macro\"], label='KNN. Test. (area = {0:0.2f})'.format(roc_auc_knn[\"macro\"]), \n",
    "         color='navy', linestyle=':', linewidth=4)\n",
    "\n",
    "ax.set_xlabel('False Positive Rate')\n",
    "ax.set_ylabel('True Positive Rate')\n",
    "ax.set_title('ROC curve for different Classifiers.')\n",
    "ax.legend(loc=\"lower right\")"
   ]
  },
  {
   "cell_type": "code",
   "execution_count": null,
   "metadata": {},
   "outputs": [],
   "source": []
  },
  {
   "cell_type": "code",
   "execution_count": null,
   "metadata": {},
   "outputs": [],
   "source": []
  }
 ],
 "metadata": {
  "kernelspec": {
   "display_name": "Python 3",
   "language": "python",
   "name": "python3"
  },
  "language_info": {
   "codemirror_mode": {
    "name": "ipython",
    "version": 3
   },
   "file_extension": ".py",
   "mimetype": "text/x-python",
   "name": "python",
   "nbconvert_exporter": "python",
   "pygments_lexer": "ipython3",
   "version": "3.7.8"
  }
 },
 "nbformat": 4,
 "nbformat_minor": 4
}
