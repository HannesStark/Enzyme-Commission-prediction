{
 "cells": [
  {
   "cell_type": "code",
   "execution_count": 1,
   "metadata": {
    "collapsed": true
   },
   "outputs": [],
   "source": [
    "import os\n",
    "\n",
    "import numpy as np\n",
    "import h5py\n",
    "from Bio import SeqIO\n",
    "from sklearn.neighbors import KNeighborsClassifier\n",
    "from sklearn.metrics import f1_score, matthews_corrcoef, confusion_matrix\n",
    "from tqdm import tqdm\n",
    "import matplotlib\n",
    "import seaborn as sns\n",
    "sns.set_theme()\n",
    "import pandas as pd\n",
    "import matplotlib.pyplot as plt\n",
    "matplotlib.rcParams['figure.dpi'] = 300\n",
    "matplotlib.rcParams['savefig.dpi'] = 300\n",
    "\n",
    "from utils import ECNUM, plot_class_accuracies, plot_confusion\n",
    "\n",
    "annotations_path = 'data/annotations/merged_anno.txt'\n",
    "embeddings_path = 'data/ec_vs_NOec_pide100_c50.h5'\n",
    "val_data_fasta = 'data/nonRed_dataset/ec_vs_NOec_pide20_c50_val.fasta'\n",
    "test_data_fasta = 'data/nonRed_dataset/ec_vs_NOec_pide20_c50_test.fasta'"
   ]
  },
  {
   "cell_type": "code",
   "execution_count": 2,
   "outputs": [
    {
     "name": "stderr",
     "output_type": "stream",
     "text": [
      "253502it [00:00, 321295.49it/s]\n"
     ]
    }
   ],
   "source": [
    "val_identifiers = []\n",
    "for sequence in SeqIO.parse(val_data_fasta, \"fasta\"):\n",
    "    val_identifiers.append(sequence.id)\n",
    "\n",
    "test_identifiers = []\n",
    "for sequence in SeqIO.parse(test_data_fasta, \"fasta\"):\n",
    "    test_identifiers.append(sequence.id)\n",
    "\n",
    "\n",
    "\n",
    "annotations = {}\n",
    "for i, annotation in tqdm(enumerate(open(annotations_path))):\n",
    "        annotation_array = annotation.strip().split('\\t')\n",
    "        identifier = annotation_array[0]\n",
    "        # ec number is an array with 4 entries. One entry for each component of the ec number\n",
    "        ec_number = annotation_array[1].split(';')[0].split('.')\n",
    "        annotations[identifier] = ec_number"
   ],
   "metadata": {
    "collapsed": false,
    "pycharm": {
     "name": "#%%\n"
    }
   }
  },
  {
   "cell_type": "code",
   "execution_count": 3,
   "outputs": [
    {
     "name": "stderr",
     "output_type": "stream",
     "text": [
      "100%|██████████| 396978/396978 [03:05<00:00, 2143.98it/s]\n"
     ]
    }
   ],
   "source": [
    "val_id_ec = []\n",
    "val_embeddings_ec = []\n",
    "val_labels_ec = []\n",
    "val_id = []\n",
    "val_embeddings = []\n",
    "val_labels = []\n",
    "test_id_ec = []\n",
    "test_embeddings_ec = []\n",
    "test_labels_ec = []\n",
    "test_id = []\n",
    "test_embeddings = []\n",
    "test_labels = []\n",
    "train_id_ec = []\n",
    "train_embeddings_ec = []\n",
    "train_labels_ec = []\n",
    "train_id = []\n",
    "train_embeddings = []\n",
    "train_labels = []\n",
    "with h5py.File(embeddings_path, 'r') as h5:\n",
    "    h5_keys = h5.keys()\n",
    "    annotation_ids = annotations.keys()\n",
    "    val_indices = np.random.randint(0,len(h5_keys),500)\n",
    "    for id in tqdm(h5_keys):\n",
    "        embedding = h5[id][:]\n",
    "        if id in val_identifiers:\n",
    "            if id in annotation_ids:\n",
    "                val_embeddings_ec.append(embedding)\n",
    "                val_labels_ec.append(annotations[id])\n",
    "                val_id_ec.append(id)\n",
    "                val_labels.append(1) # label as ec\n",
    "            else:\n",
    "                val_labels.append(0)\n",
    "            val_id.append(id)# label as non ec\n",
    "            val_embeddings.append(embedding)\n",
    "        elif id in test_identifiers:\n",
    "            if id in annotation_ids:\n",
    "                test_embeddings_ec.append(embedding)\n",
    "                test_labels_ec.append(annotations[id])\n",
    "                test_id_ec.append(id)\n",
    "                test_labels.append(1) # label as ec\n",
    "            else:\n",
    "                test_labels.append(0) # label as non ec\n",
    "            test_id.append(id)\n",
    "            test_embeddings.append(embedding)\n",
    "        else:\n",
    "            if id in annotation_ids:\n",
    "                train_embeddings_ec.append(embedding)\n",
    "                train_labels_ec.append(annotations[id])\n",
    "                train_id_ec.append(id)\n",
    "                train_labels.append(1) # label as ec\n",
    "            else:\n",
    "                train_labels.append(0) # label as non ec\n",
    "            train_embeddings.append(embedding)\n",
    "            train_id.append(id)\n"
   ],
   "metadata": {
    "collapsed": false,
    "pycharm": {
     "name": "#%%\n"
    }
   }
  },
  {
   "cell_type": "code",
   "execution_count": 4,
   "outputs": [
    {
     "name": "stdout",
     "output_type": "stream",
     "text": [
      "91\n",
      "395994\n",
      "['A0A023PZC7', 'A0A023PZE6', 'A0A163UT06', 'A0A411KUP5', 'A0QRX9', 'A1L4Q6', 'A3MWN7', 'A3RGB0', 'A4R2Q6', 'A5D7C3', 'A5TZH0', 'A5UQF4', 'A6NNP5', 'A6VLC4', 'A7KAI8', 'A7UZ95', 'A7XCE8', 'A8E657', 'A8ESZ6', 'A8FDN5', 'A8HMZ4', 'A8MTZ7', 'A8QHQ0', 'B2A2M1', 'B3DHH5', 'B4YNG0', 'B7M9S5', 'B8II14', 'C0HJE6', 'C4XIR5', 'C6Y4B9', 'D0N4E0', 'D3Z9M3', 'D4AN96', 'D5KXG8', 'E1WAB4', 'F4KCE9', 'F5HEN7', 'F5HGJ4', 'G0S902', 'G2TRP5', 'G2TRR5', 'G5ECG2', 'J3K844', 'K7EIQ3', 'O07623', 'O07636', 'O10339', 'O13532', 'O13714', 'O13954', 'O14050', 'O14220', 'O19888', 'O23550', 'O25711', 'O26133', 'O27941', 'O28187', 'O28280', 'O28700', 'O28816', 'O29484', 'O29496', 'O29762', 'O29839', 'O30238', 'O30248', 'O31878', 'O31897', 'O31915', 'O32126', 'O32864', 'O34843', 'O35870', 'O43676', 'O43952', 'O48459', 'O52728', 'O53780', 'O61764', 'O64221', 'O64642', 'O67062', 'O67818', 'O71191', 'O74466', 'O80678', 'O80996', 'O82289', 'O82391', 'O83391', 'O83705', 'O83711', 'O83777', 'O83805', 'O83870', 'O94197', 'O94597', 'P03164', 'P03208', 'P03515', 'P03739', 'P03860', 'P03934', 'P04929', 'P04981', 'P05729', 'P06425', 'P06599', 'P06849', 'P07261', 'P07266', 'P08136', 'P08747', 'P08921', 'P09176', 'P09461', 'P09549', 'P09816', 'P0A2S8', 'P0AAZ1', 'P0AF76', 'P0C130', 'P0C1T5', 'P0C5K2', 'P0C5M7', 'P0C5Y7', 'P0C747', 'P0C841', 'P0C842', 'P0C8Z5', 'P0CAJ5', 'P0CJ95', 'P0CU21', 'P0CV53', 'P0DJQ7', 'P0DJY2', 'P0DL35', 'P0DMB2', 'P0DPZ5', 'P0DQE4', 'P0DSF4', 'P0DSP7', 'P0DTX9', 'P11111', 'P11112', 'P12552', 'P13604', 'P13702', 'P14998', 'P15281', 'P15369', 'P15488', 'P15688', 'P15972', 'P16539', 'P16692', 'P16796', 'P16930', 'P17105', 'P18035', 'P19369', 'P20519', 'P21308', 'P22960', 'P23629', 'P23735', 'P24891', 'P25201', 'P25572', 'P25738', 'P25923', 'P27187', 'P30653', 'P30661', 'P31526', 'P31862', 'P32806', 'P34531', 'P34554', 'P34560', 'P34566', 'P34645', 'P35678', 'P36140', 'P37249', 'P38195', 'P38296', 'P38307', 'P38826', 'P39297', 'P39497', 'P39639', 'P39797', 'P40022', 'P40534', 'P40948', 'P41881', 'P42083', 'P42543', 'P43047', 'P43215', 'P44321', 'P44476', 'P45428', 'P45505', 'P45619', 'P45874', 'P46042', 'P46910', 'P46954', 'P47184', 'P47475', 'P49828', 'P50109', 'P50325', 'P50534', 'P50744', 'P50835', 'P52423', 'P52614', 'P53072', 'P53186', 'P53291', 'P53511', 'P54682', 'P55521', 'P55729', 'P56200', 'P56943', 'P59036', 'P59203', 'P64451', 'P68717', 'P74095', 'P75204', 'P75472', 'P75737', 'P76349', 'P77427', 'P80232', 'P81322', 'P83057', 'P84197', 'P86720', 'P92550', 'P96076', 'P96635', 'P9WFM4', 'P9WJ38', 'P9WJ66', 'P9WJ86', 'P9WL00', 'P9WMB7', 'Q00124', 'Q00146', 'Q00147', 'Q01027', 'Q01965', 'Q02587', 'Q02950', 'Q03313', 'Q04341', 'Q04368', 'Q04469', 'Q05129', 'Q05222', 'Q05285', 'Q05491', 'Q07451', 'Q07732', 'Q07838', 'Q08539', 'Q09525', 'Q09702', 'Q0C3U2', 'Q0DRX6', 'Q0IY07', 'Q0JMB2', 'Q10063', 'Q10080', 'Q12245', 'Q12292', 'Q12352', 'Q14641', 'Q148J6', 'Q17635', 'Q17RN3', 'Q18235', 'Q182W3', 'Q18616', 'Q18LD3', 'Q19040', 'Q197A0', 'Q1PE40', 'Q1QZ29', 'Q1XDC3', 'Q20806', 'Q21045', 'Q24472', 'Q25BJ3', 'Q27483', 'Q2A1G5', 'Q2FHL2', 'Q2PFU1', 'Q2RKA1', 'Q2RNI6', 'Q2TBQ6', 'Q2V3S8', 'Q2V472', 'Q32KT0', 'Q32LC2', 'Q38423', 'Q3E7A7', 'Q3V4W7', 'Q45973', 'Q45FN5', 'Q46999', 'Q48509', 'Q48514', 'Q49126', 'Q4Z971', 'Q52328', 'Q53EK2', 'Q53H64', 'Q53K52', 'Q54B95', 'Q54B97', 'Q54J20', 'Q54LF0', 'Q54MA0', 'Q54PY9', 'Q54QQ2', 'Q54UB0', 'Q54UJ5', 'Q54VK3', 'Q556Y8', 'Q558X5', 'Q57347', 'Q573D4', 'Q57677', 'Q57788', 'Q58086', 'Q58215', 'Q58582', 'Q58703', 'Q58724', 'Q58781', 'Q58867', 'Q58996', 'Q5A1V3', 'Q5BK38', 'Q5E9H9', 'Q5E9L4', 'Q5F362', 'Q5F499', 'Q5M845', 'Q5PP38', 'Q5RC94', 'Q5RCI9', 'Q5RDW9', 'Q5T036', 'Q5T750', 'Q5UP04', 'Q5UP67', 'Q5UPL0', 'Q5UPN0', 'Q5UQ28', 'Q5UQD9', 'Q5UQT6', 'Q5UQU7', 'Q5UQZ0', 'Q5UR28', 'Q5XV31', 'Q5ZIA2', 'Q66643', 'Q682V0', 'Q6C531', 'Q6E0U4', 'Q6F4M9', 'Q6NQK9', 'Q6NTJ3', 'Q6P026', 'Q6PD82', 'Q6PFL6', 'Q6PK04', 'Q6QGD3', 'Q6TMJ9', 'Q6ZQT0', 'Q6ZRG5', 'Q6ZV56', 'Q7ATH9', 'Q7LKV3', 'Q7T1K4', 'Q7VKJ6', 'Q7YR46', 'Q80912', 'Q80ZG0', 'Q811A2', 'Q82IY3', 'Q86H60', 'Q86KD3', 'Q86YS3', 'Q88JG8', 'Q89681', 'Q8BVK9', 'Q8C0G2', 'Q8EQA1', 'Q8ESU7', 'Q8G6K4', 'Q8IYI0', 'Q8JFQ4', 'Q8SS49', 'Q8SUE9', 'Q8TE49', 'Q8TEL6', 'Q8TGR5', 'Q8TXG4', 'Q8TYT4', 'Q8U8R2', 'Q8VEG0', 'Q8VYL1', 'Q8W485', 'Q8Y9T5', 'Q914M7', 'Q93AL9', 'Q967U1', 'Q969Q6', 'Q96M15', 'Q96N03', 'Q96PP8', 'Q96QH2', 'Q97YD5', 'Q99074', 'Q9BQE6', 'Q9BW27', 'Q9CN81', 'Q9CND4', 'Q9CPD8', 'Q9CR14', 'Q9D2D9', 'Q9D6K8', 'Q9D7N3', 'Q9DBX3', 'Q9FFD8', 'Q9FKA5', 'Q9FVW4', 'Q9G055', 'Q9GPR3', 'Q9HDY5', 'Q9HR76', 'Q9HTW3', 'Q9HUK7', 'Q9I745', 'Q9JKA8', 'Q9KQ40', 'Q9LFA5', 'Q9LND7', 'Q9LP07', 'Q9M310', 'Q9P3A9', 'Q9P7D5', 'Q9P7J0', 'Q9P7V6', 'Q9RN06', 'Q9S728', 'Q9SJ07', 'Q9SN95', 'Q9T1U1', 'Q9UT33', 'Q9UTJ3', 'Q9UTR7', 'Q9UUD9', 'Q9VAD6', 'Q9VES1', 'Q9VFX3', 'Q9VGZ5', 'Q9X1H2', 'Q9XEX2', 'Q9XIA7', 'Q9XJQ9', 'Q9Y7N1', 'Q9YX38', 'Q9Z0D5', 'Q9Z6S0', 'Q9ZDG9', 'Q9ZGI1', 'Q9ZQZ6', 'Q9ZUB9']\n"
     ]
    }
   ],
   "source": [
    "print(len(test_embeddings_ec))\n",
    "print(len(train_id))\n",
    "print(val_id)\n",
    "train_labels_ec_1 = np.array(train_labels_ec)[:, 0]  # take the first column of the array to get the first ec number\n",
    "val_labels_ec_1 = np.array(val_labels_ec)[:, 0]\n",
    "test_labels_ec_1 = np.array(test_labels_ec)[:, 0]"
   ],
   "metadata": {
    "collapsed": false,
    "pycharm": {
     "name": "#%%\n"
    }
   }
  },
  {
   "cell_type": "code",
   "execution_count": 5,
   "outputs": [
    {
     "data": {
      "text/plain": "KNeighborsClassifier(n_neighbors=1, p=1)"
     },
     "execution_count": 5,
     "metadata": {},
     "output_type": "execute_result"
    }
   ],
   "source": [
    "ec_classifier = KNeighborsClassifier(n_neighbors=1, p=1)\n",
    "ec_classifier.fit(train_embeddings_ec, train_labels_ec_1)"
   ],
   "metadata": {
    "collapsed": false,
    "pycharm": {
     "name": "#%%\n"
    }
   }
  },
  {
   "cell_type": "code",
   "execution_count": 6,
   "outputs": [],
   "source": [
    "pred_test_ec = ec_classifier.predict(test_embeddings_ec)\n",
    "#pred_val_ec = ec_classifier.predict(val_embeddings_ec)\n",
    "distances_ec, _ = ec_classifier.kneighbors(val_embeddings_ec)"
   ],
   "metadata": {
    "collapsed": false,
    "pycharm": {
     "name": "#%%\n"
    }
   }
  },
  {
   "cell_type": "code",
   "execution_count": 7,
   "outputs": [
    {
     "data": {
      "text/plain": "KNeighborsClassifier(n_neighbors=1)"
     },
     "execution_count": 7,
     "metadata": {},
     "output_type": "execute_result"
    }
   ],
   "source": [
    "classifier = KNeighborsClassifier(n_neighbors=1)\n",
    "classifier.fit(train_embeddings, train_labels)"
   ],
   "metadata": {
    "collapsed": false,
    "pycharm": {
     "name": "#%%\n"
    }
   }
  },
  {
   "cell_type": "code",
   "execution_count": 8,
   "outputs": [],
   "source": [
    "pred_test = classifier.predict(test_embeddings)\n",
    "#pred_val = classifier.predict(val_embeddings)\n",
    "distances, _ = classifier.kneighbors(val_embeddings)"
   ],
   "metadata": {
    "collapsed": false,
    "pycharm": {
     "name": "#%%\n"
    }
   }
  },
  {
   "cell_type": "code",
   "execution_count": 9,
   "outputs": [
    {
     "name": "stdout",
     "output_type": "stream",
     "text": [
      "90.08097165991903\n",
      "0.7171397428527959\n",
      "0.7677725118483412\n"
     ]
    }
   ],
   "source": [
    "test_results = np.array([pred_test,test_labels]).T\n",
    "print(100 * np.equal(test_results[:,0], test_results[:,1]).sum() / len(test_results))\n",
    "print(matthews_corrcoef(test_results[:,1], test_results[:,0]))\n",
    "print(f1_score(test_results[:,1], test_results[:,0]))"
   ],
   "metadata": {
    "collapsed": false,
    "pycharm": {
     "name": "#%%\n"
    }
   }
  },
  {
   "cell_type": "code",
   "execution_count": 19,
   "outputs": [
    {
     "name": "stdout",
     "output_type": "stream",
     "text": [
      "['1' '5' '2' '3' '2' '2' '6' '2' '1' '3' '3' '6' '2' '3' '3' '2' '2' '3'\n",
      " '1' '2' '3' '3' '2' '3' '1' '5' '2' '3' '2' '1' '4' '2' '2' '3' '1' '2'\n",
      " '2' '2' '1' '3' '2' '1' '3' '7' '2' '3' '1' '3' '5' '5' '3' '2' '2' '2'\n",
      " '3' '2' '3' '1' '3' '1' '5' '3' '4' '3' '3' '3' '5' '3' '3' '2' '3' '2'\n",
      " '3' '6' '2' '2' '3' '6' '2' '2' '2' '3' '2' '4' '3' '1' '2' '3' '2' '2'\n",
      " '3']\n",
      "['1' '5' '2' '3' '2' '2' '6' '2' '1' '3' '3' '6' '2' '3' '3' '2' '2' '3'\n",
      " '1' '1' '3' '3' '2' '3' '1' '3' '2' '1' '2' '3' '1' '2' '2' '3' '1' '2'\n",
      " '3' '2' '1' '3' '1' '1' '3' '7' '2' '3' '1' '3' '5' '5' '3' '2' '2' '2'\n",
      " '3' '2' '3' '1' '3' '1' '2' '2' '2' '3' '1' '3' '1' '3' '3' '3' '3' '2'\n",
      " '3' '5' '2' '2' '3' '5' '2' '2' '2' '3' '2' '4' '3' '1' '2' '2' '2' '2'\n",
      " '3']\n",
      "82.41758241758241\n",
      "0.7563434512022938\n",
      "0.7463613972234662\n"
     ]
    },
    {
     "ename": "UFuncTypeError",
     "evalue": "ufunc 'equal' did not contain a loop with signature matching types (dtype('<U3'), dtype('<U3')) -> dtype('bool')",
     "output_type": "error",
     "traceback": [
      "\u001B[1;31m---------------------------------------------------------------------------\u001B[0m",
      "\u001B[1;31mUFuncTypeError\u001B[0m                            Traceback (most recent call last)",
      "\u001B[1;32m<ipython-input-19-d647bcdbf4b9>\u001B[0m in \u001B[0;36m<module>\u001B[1;34m\u001B[0m\n\u001B[0;32m      9\u001B[0m \u001B[0mprint\u001B[0m\u001B[1;33m(\u001B[0m\u001B[0mmatthews_corrcoef\u001B[0m\u001B[1;33m(\u001B[0m\u001B[0mtest_results_ec\u001B[0m\u001B[1;33m[\u001B[0m\u001B[1;33m:\u001B[0m\u001B[1;33m,\u001B[0m\u001B[1;36m1\u001B[0m\u001B[1;33m]\u001B[0m\u001B[1;33m,\u001B[0m \u001B[0mtest_results_ec\u001B[0m\u001B[1;33m[\u001B[0m\u001B[1;33m:\u001B[0m\u001B[1;33m,\u001B[0m\u001B[1;36m0\u001B[0m\u001B[1;33m]\u001B[0m\u001B[1;33m)\u001B[0m\u001B[1;33m)\u001B[0m\u001B[1;33m\u001B[0m\u001B[1;33m\u001B[0m\u001B[0m\n\u001B[0;32m     10\u001B[0m \u001B[0mprint\u001B[0m\u001B[1;33m(\u001B[0m\u001B[0mf1_score\u001B[0m\u001B[1;33m(\u001B[0m\u001B[0mtest_results_ec\u001B[0m\u001B[1;33m[\u001B[0m\u001B[1;33m:\u001B[0m\u001B[1;33m,\u001B[0m\u001B[1;36m1\u001B[0m\u001B[1;33m]\u001B[0m\u001B[1;33m,\u001B[0m \u001B[0mtest_results_ec\u001B[0m\u001B[1;33m[\u001B[0m\u001B[1;33m:\u001B[0m\u001B[1;33m,\u001B[0m\u001B[1;36m0\u001B[0m\u001B[1;33m]\u001B[0m\u001B[1;33m,\u001B[0m \u001B[0maverage\u001B[0m\u001B[1;33m=\u001B[0m\u001B[1;34m'macro'\u001B[0m\u001B[1;33m)\u001B[0m\u001B[1;33m)\u001B[0m\u001B[1;33m\u001B[0m\u001B[1;33m\u001B[0m\u001B[0m\n\u001B[1;32m---> 11\u001B[1;33m \u001B[0mprint\u001B[0m\u001B[1;33m(\u001B[0m\u001B[1;36m100\u001B[0m \u001B[1;33m*\u001B[0m \u001B[0mnp\u001B[0m\u001B[1;33m.\u001B[0m\u001B[0mequal\u001B[0m\u001B[1;33m(\u001B[0m\u001B[0mtest_results_ec\u001B[0m\u001B[1;33m[\u001B[0m\u001B[1;33m:\u001B[0m\u001B[1;33m,\u001B[0m\u001B[1;36m0\u001B[0m\u001B[1;33m]\u001B[0m\u001B[1;33m,\u001B[0m \u001B[0mtest_results_ec\u001B[0m\u001B[1;33m[\u001B[0m\u001B[1;33m:\u001B[0m\u001B[1;33m,\u001B[0m\u001B[1;36m1\u001B[0m\u001B[1;33m]\u001B[0m\u001B[1;33m)\u001B[0m\u001B[1;33m.\u001B[0m\u001B[0msum\u001B[0m\u001B[1;33m(\u001B[0m\u001B[1;33m)\u001B[0m \u001B[1;33m/\u001B[0m \u001B[0mlen\u001B[0m\u001B[1;33m(\u001B[0m\u001B[0mtest_results_ec\u001B[0m\u001B[1;33m)\u001B[0m\u001B[1;33m)\u001B[0m\u001B[1;33m\u001B[0m\u001B[1;33m\u001B[0m\u001B[0m\n\u001B[0m",
      "\u001B[1;31mUFuncTypeError\u001B[0m: ufunc 'equal' did not contain a loop with signature matching types (dtype('<U3'), dtype('<U3')) -> dtype('bool')"
     ]
    }
   ],
   "source": [
    "print(pred_test_ec)\n",
    "print(test_labels_ec_1)\n",
    "test_results_ec = np.array([pred_test_ec,test_labels_ec_1]).T\n",
    "counter = 0\n",
    "for elem in test_results_ec:\n",
    "    if elem[0] == elem[1]:\n",
    "        counter += 1\n",
    "print(counter/len(test_results_ec)*100)\n",
    "print(matthews_corrcoef(test_results_ec[:,1], test_results_ec[:,0]))\n",
    "print(f1_score(test_results_ec[:,1], test_results_ec[:,0], average='macro'))\n",
    "print(100 * np.equal(test_results_ec[:,0], test_results_ec[:,1]).sum() / len(test_results_ec))"
   ],
   "metadata": {
    "collapsed": false,
    "pycharm": {
     "name": "#%%\n"
    }
   }
  },
  {
   "cell_type": "code",
   "execution_count": null,
   "outputs": [],
   "source": [
    "cutoffs = np.linspace(distances.min(),distances.max(),1000)\n",
    "results = np.array([pred_val,val_labels, distances.squeeze()]).T\n",
    "accuracies = []\n",
    "percentage_sequences = []\n",
    "for cutoff in tqdm(cutoffs):\n",
    "    indices = results[:, 2] <= cutoff\n",
    "    below_cutoff = results[indices]\n",
    "    accuracy = 100*np.equal(below_cutoff[:, 0], below_cutoff[:, 1]).sum() / len(below_cutoff)\n",
    "    accuracies.append(accuracy)\n",
    "    percentage_sequences.append(100*len(below_cutoff)/len(results))"
   ],
   "metadata": {
    "collapsed": false,
    "pycharm": {
     "name": "#%%\n"
    }
   }
  },
  {
   "cell_type": "code",
   "execution_count": null,
   "outputs": [],
   "source": [
    "cutoffs_ec = np.linspace(distances_ec.min(),distances_ec.max(),1000)\n",
    "results_ec = np.array([pred_val_ec,val_labels_ec_1, distances_ec.squeeze()], dtype=float).T\n",
    "\n",
    "accuracies_ec = []\n",
    "percentage_sequences_ec = []\n",
    "for cutoff in tqdm(cutoffs_ec):\n",
    "    indices = results_ec[:, 2] <= cutoff\n",
    "    below_cutoff = results_ec[indices]\n",
    "    accuracy = 100*np.equal(below_cutoff[:, 0], below_cutoff[:, 1]).sum() / len(below_cutoff)\n",
    "    accuracies_ec.append(accuracy)\n",
    "    percentage_sequences_ec.append(100*len(below_cutoff)/len(results_ec))"
   ],
   "metadata": {
    "collapsed": false,
    "pycharm": {
     "name": "#%%\n"
    }
   }
  },
  {
   "cell_type": "code",
   "execution_count": null,
   "outputs": [],
   "source": [
    "plt.rcParams['figure.figsize'] = [10, 8]\n",
    "df = pd.DataFrame(np.array([cutoffs,accuracies, percentage_sequences]).T,\n",
    "                  columns=[\"distance\", \"accuracies\", 'fraction sequences'])\n",
    "df = df.melt('distance', var_name='cols',  value_name='percent')\n",
    "sns.lineplot(x=\"distance\", y=\"percent\", hue='cols', data=df)\n",
    "plt.legend(labels=['accuracy', 'fraction_sequences'])\n",
    "plt.savefig('figure.png')\n",
    "plt.show()\n",
    "plt.clf()\n",
    "\n",
    "df_ec = pd.DataFrame(np.array([cutoffs_ec,accuracies_ec,percentage_sequences_ec]).T,\n",
    "                  columns=[\"distance\", \"accuracies\", 'fraction sequences'])\n",
    "df_ec = df_ec.melt('distance', var_name='cols',  value_name='percent')\n",
    "sns.lineplot(x=\"distance\", y=\"percent\", hue='cols', data=df_ec)\n",
    "plt.legend(labels=['accuracy', 'fraction sequences'])\n",
    "plt.savefig('figure.png')\n",
    "plt.show()\n",
    "plt.clf()"
   ],
   "metadata": {
    "collapsed": false,
    "pycharm": {
     "name": "#%%\n"
    }
   }
  }
 ],
 "metadata": {
  "kernelspec": {
   "display_name": "Python 3",
   "language": "python",
   "name": "python3"
  },
  "language_info": {
   "codemirror_mode": {
    "name": "ipython",
    "version": 2
   },
   "file_extension": ".py",
   "mimetype": "text/x-python",
   "name": "python",
   "nbconvert_exporter": "python",
   "pygments_lexer": "ipython2",
   "version": "2.7.6"
  }
 },
 "nbformat": 4,
 "nbformat_minor": 0
}